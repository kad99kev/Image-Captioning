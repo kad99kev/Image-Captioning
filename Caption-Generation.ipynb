{
 "cells": [
  {
   "cell_type": "code",
   "execution_count": 1,
   "id": "several-cambodia",
   "metadata": {},
   "outputs": [],
   "source": [
    "import pandas as pd\n",
    "import numpy as np\n",
    "\n",
    "import torch\n",
    "from torchtext.data.utils import get_tokenizer\n",
    "from torchtext.vocab import build_vocab_from_iterator\n",
    "\n",
    "from utils.dataset import FeatureCaptionDataset\n",
    "from utils.models import CNNEncoder, RNNDecoder\n",
    "from utils.helpers import get_tokenizer_vocab, collate_fn_pad"
   ]
  },
  {
   "cell_type": "code",
   "execution_count": 2,
   "id": "synthetic-syntax",
   "metadata": {},
   "outputs": [],
   "source": [
    "PATH = \"dataset/\""
   ]
  },
  {
   "cell_type": "code",
   "execution_count": 3,
   "id": "objective-price",
   "metadata": {},
   "outputs": [],
   "source": [
    "df = pd.read_csv(PATH + \"captions.txt\")"
   ]
  },
  {
   "cell_type": "code",
   "execution_count": 4,
   "id": "cloudy-lexington",
   "metadata": {},
   "outputs": [
    {
     "data": {
      "text/html": [
       "<div>\n",
       "<style scoped>\n",
       "    .dataframe tbody tr th:only-of-type {\n",
       "        vertical-align: middle;\n",
       "    }\n",
       "\n",
       "    .dataframe tbody tr th {\n",
       "        vertical-align: top;\n",
       "    }\n",
       "\n",
       "    .dataframe thead th {\n",
       "        text-align: right;\n",
       "    }\n",
       "</style>\n",
       "<table border=\"1\" class=\"dataframe\">\n",
       "  <thead>\n",
       "    <tr style=\"text-align: right;\">\n",
       "      <th></th>\n",
       "      <th>image</th>\n",
       "      <th>caption</th>\n",
       "    </tr>\n",
       "  </thead>\n",
       "  <tbody>\n",
       "    <tr>\n",
       "      <th>0</th>\n",
       "      <td>1000268201_693b08cb0e.jpg</td>\n",
       "      <td>A child in a pink dress is climbing up a set o...</td>\n",
       "    </tr>\n",
       "    <tr>\n",
       "      <th>1</th>\n",
       "      <td>1000268201_693b08cb0e.jpg</td>\n",
       "      <td>A girl going into a wooden building .</td>\n",
       "    </tr>\n",
       "    <tr>\n",
       "      <th>2</th>\n",
       "      <td>1000268201_693b08cb0e.jpg</td>\n",
       "      <td>A little girl climbing into a wooden playhouse .</td>\n",
       "    </tr>\n",
       "    <tr>\n",
       "      <th>3</th>\n",
       "      <td>1000268201_693b08cb0e.jpg</td>\n",
       "      <td>A little girl climbing the stairs to her playh...</td>\n",
       "    </tr>\n",
       "    <tr>\n",
       "      <th>4</th>\n",
       "      <td>1000268201_693b08cb0e.jpg</td>\n",
       "      <td>A little girl in a pink dress going into a woo...</td>\n",
       "    </tr>\n",
       "  </tbody>\n",
       "</table>\n",
       "</div>"
      ],
      "text/plain": [
       "                       image  \\\n",
       "0  1000268201_693b08cb0e.jpg   \n",
       "1  1000268201_693b08cb0e.jpg   \n",
       "2  1000268201_693b08cb0e.jpg   \n",
       "3  1000268201_693b08cb0e.jpg   \n",
       "4  1000268201_693b08cb0e.jpg   \n",
       "\n",
       "                                             caption  \n",
       "0  A child in a pink dress is climbing up a set o...  \n",
       "1              A girl going into a wooden building .  \n",
       "2   A little girl climbing into a wooden playhouse .  \n",
       "3  A little girl climbing the stairs to her playh...  \n",
       "4  A little girl in a pink dress going into a woo...  "
      ]
     },
     "execution_count": 4,
     "metadata": {},
     "output_type": "execute_result"
    }
   ],
   "source": [
    "df.head()"
   ]
  },
  {
   "cell_type": "code",
   "execution_count": 5,
   "id": "scheduled-advertising",
   "metadata": {},
   "outputs": [],
   "source": [
    "tokenizer, vocab = get_tokenizer_vocab(df)"
   ]
  },
  {
   "cell_type": "code",
   "execution_count": 6,
   "id": "historical-harbor",
   "metadata": {},
   "outputs": [],
   "source": [
    "dataset = FeatureCaptionDataset(PATH + \"embeddings/\", df, tokenizer, vocab)"
   ]
  },
  {
   "cell_type": "code",
   "execution_count": 7,
   "id": "figured-sword",
   "metadata": {},
   "outputs": [],
   "source": [
    "dataiter = iter(dataset)\n",
    "feats, cap = next(dataiter)"
   ]
  },
  {
   "cell_type": "code",
   "execution_count": 8,
   "id": "legendary-exercise",
   "metadata": {},
   "outputs": [],
   "source": [
    "dataloader = torch.utils.data.DataLoader(dataset, batch_size=2, collate_fn=collate_fn_pad)"
   ]
  },
  {
   "cell_type": "code",
   "execution_count": 9,
   "id": "collect-general",
   "metadata": {},
   "outputs": [],
   "source": [
    "encoder_dim, decoder_dim, attention_dim, embed_dim, vocab_size = 512, 256, 128, 64, 500"
   ]
  },
  {
   "cell_type": "code",
   "execution_count": 10,
   "id": "arctic-foster",
   "metadata": {},
   "outputs": [],
   "source": [
    "# cnn_encoder = CNNEncoder(1536, encoder_dim)"
   ]
  },
  {
   "cell_type": "code",
   "execution_count": 11,
   "id": "fifteen-investigator",
   "metadata": {},
   "outputs": [],
   "source": [
    "# decoder = RNNDecoder(encoder_dim=encoder_dim, \n",
    "#                      decoder_dim=decoder_dim, \n",
    "#                      attention_dim=attention_dim, \n",
    "#                      embedding_dim=embed_dim, \n",
    "#                      vocab_size=vocab_size\n",
    "#                     )"
   ]
  },
  {
   "cell_type": "code",
   "execution_count": 12,
   "id": "rental-indication",
   "metadata": {},
   "outputs": [
    {
     "name": "stdout",
     "output_type": "stream",
     "text": [
      "9213\n"
     ]
    }
   ],
   "source": [
    "vocab_size = len(vocab)\n",
    "print(vocab_size)"
   ]
  },
  {
   "cell_type": "code",
   "execution_count": 13,
   "id": "fresh-panic",
   "metadata": {},
   "outputs": [],
   "source": [
    "feats, cap = next(iter(dataloader))"
   ]
  },
  {
   "cell_type": "code",
   "execution_count": 14,
   "id": "sustained-corrections",
   "metadata": {},
   "outputs": [
    {
     "data": {
      "text/plain": [
       "(torch.Size([2, 1536, 8, 8]), torch.Size([2, 18]))"
      ]
     },
     "execution_count": 14,
     "metadata": {},
     "output_type": "execute_result"
    }
   ],
   "source": [
    "feats.shape, cap.shape"
   ]
  },
  {
   "cell_type": "code",
   "execution_count": null,
   "id": "lesser-pursuit",
   "metadata": {},
   "outputs": [],
   "source": []
  }
 ],
 "metadata": {
  "kernelspec": {
   "display_name": "Python 3",
   "language": "python",
   "name": "python3"
  },
  "language_info": {
   "codemirror_mode": {
    "name": "ipython",
    "version": 3
   },
   "file_extension": ".py",
   "mimetype": "text/x-python",
   "name": "python",
   "nbconvert_exporter": "python",
   "pygments_lexer": "ipython3",
   "version": "3.8.6"
  }
 },
 "nbformat": 4,
 "nbformat_minor": 5
}
