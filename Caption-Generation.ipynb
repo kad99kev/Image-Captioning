{
 "cells": [
  {
   "cell_type": "code",
   "execution_count": 1,
   "id": "several-cambodia",
   "metadata": {},
   "outputs": [],
   "source": [
    "import pandas as pd\n",
    "import numpy as np\n",
    "\n",
    "from tqdm.notebook import tqdm\n",
    "\n",
    "import torch\n",
    "\n",
    "from utils.dataset import FeatureCaptionDataset\n",
    "from utils.models import CNNEncoder, RNNDecoder\n",
    "from utils.helpers import get_tokenizer_vocab, collate_fn_pad\n",
    "from utils.trainer import train"
   ]
  },
  {
   "cell_type": "code",
   "execution_count": 2,
   "id": "synthetic-syntax",
   "metadata": {},
   "outputs": [],
   "source": [
    "PATH = \"dataset/\""
   ]
  },
  {
   "cell_type": "code",
   "execution_count": 3,
   "id": "objective-price",
   "metadata": {},
   "outputs": [],
   "source": [
    "df = pd.read_csv(PATH + \"captions.txt\")"
   ]
  },
  {
   "cell_type": "code",
   "execution_count": 4,
   "id": "cloudy-lexington",
   "metadata": {},
   "outputs": [
    {
     "data": {
      "text/html": [
       "<div>\n",
       "<style scoped>\n",
       "    .dataframe tbody tr th:only-of-type {\n",
       "        vertical-align: middle;\n",
       "    }\n",
       "\n",
       "    .dataframe tbody tr th {\n",
       "        vertical-align: top;\n",
       "    }\n",
       "\n",
       "    .dataframe thead th {\n",
       "        text-align: right;\n",
       "    }\n",
       "</style>\n",
       "<table border=\"1\" class=\"dataframe\">\n",
       "  <thead>\n",
       "    <tr style=\"text-align: right;\">\n",
       "      <th></th>\n",
       "      <th>image</th>\n",
       "      <th>caption</th>\n",
       "    </tr>\n",
       "  </thead>\n",
       "  <tbody>\n",
       "    <tr>\n",
       "      <th>0</th>\n",
       "      <td>1000268201_693b08cb0e.jpg</td>\n",
       "      <td>A child in a pink dress is climbing up a set o...</td>\n",
       "    </tr>\n",
       "    <tr>\n",
       "      <th>1</th>\n",
       "      <td>1000268201_693b08cb0e.jpg</td>\n",
       "      <td>A girl going into a wooden building .</td>\n",
       "    </tr>\n",
       "    <tr>\n",
       "      <th>2</th>\n",
       "      <td>1000268201_693b08cb0e.jpg</td>\n",
       "      <td>A little girl climbing into a wooden playhouse .</td>\n",
       "    </tr>\n",
       "    <tr>\n",
       "      <th>3</th>\n",
       "      <td>1000268201_693b08cb0e.jpg</td>\n",
       "      <td>A little girl climbing the stairs to her playh...</td>\n",
       "    </tr>\n",
       "    <tr>\n",
       "      <th>4</th>\n",
       "      <td>1000268201_693b08cb0e.jpg</td>\n",
       "      <td>A little girl in a pink dress going into a woo...</td>\n",
       "    </tr>\n",
       "  </tbody>\n",
       "</table>\n",
       "</div>"
      ],
      "text/plain": [
       "                       image  \\\n",
       "0  1000268201_693b08cb0e.jpg   \n",
       "1  1000268201_693b08cb0e.jpg   \n",
       "2  1000268201_693b08cb0e.jpg   \n",
       "3  1000268201_693b08cb0e.jpg   \n",
       "4  1000268201_693b08cb0e.jpg   \n",
       "\n",
       "                                             caption  \n",
       "0  A child in a pink dress is climbing up a set o...  \n",
       "1              A girl going into a wooden building .  \n",
       "2   A little girl climbing into a wooden playhouse .  \n",
       "3  A little girl climbing the stairs to her playh...  \n",
       "4  A little girl in a pink dress going into a woo...  "
      ]
     },
     "execution_count": 4,
     "metadata": {},
     "output_type": "execute_result"
    }
   ],
   "source": [
    "df.head()"
   ]
  },
  {
   "cell_type": "code",
   "execution_count": 5,
   "id": "scheduled-advertising",
   "metadata": {},
   "outputs": [],
   "source": [
    "tokenizer, vocab = get_tokenizer_vocab(df)"
   ]
  },
  {
   "cell_type": "code",
   "execution_count": 6,
   "id": "rental-indication",
   "metadata": {},
   "outputs": [
    {
     "name": "stdout",
     "output_type": "stream",
     "text": [
      "9213\n"
     ]
    }
   ],
   "source": [
    "vocab_size = len(vocab)\n",
    "print(vocab_size)"
   ]
  },
  {
   "cell_type": "code",
   "execution_count": 7,
   "id": "historical-harbor",
   "metadata": {},
   "outputs": [],
   "source": [
    "dataset = FeatureCaptionDataset(PATH + \"embeddings/\", df, tokenizer, vocab)"
   ]
  },
  {
   "cell_type": "code",
   "execution_count": 8,
   "id": "legendary-exercise",
   "metadata": {},
   "outputs": [
    {
     "data": {
      "text/plain": [
       "2529"
      ]
     },
     "execution_count": 8,
     "metadata": {},
     "output_type": "execute_result"
    }
   ],
   "source": [
    "dataloader = torch.utils.data.DataLoader(dataset, batch_size=16, collate_fn=collate_fn_pad)\n",
    "len(dataloader)"
   ]
  },
  {
   "cell_type": "code",
   "execution_count": 9,
   "id": "collect-general",
   "metadata": {},
   "outputs": [],
   "source": [
    "encoder_dim, decoder_dim, attention_dim, embed_dim, vocab_size = 512, 256, 128, 64, len(vocab)"
   ]
  },
  {
   "cell_type": "code",
   "execution_count": 10,
   "id": "norwegian-fusion",
   "metadata": {},
   "outputs": [],
   "source": [
    "# max_len = 0\n",
    "# for i in tqdm(range(len(dataset))):\n",
    "#     _, cap = dataset[i]\n",
    "#     cap_len = len(cap)\n",
    "#     if cap_len > max_len:\n",
    "#         max_len = cap_len\n",
    "max_len = 42"
   ]
  },
  {
   "cell_type": "code",
   "execution_count": 11,
   "id": "arctic-foster",
   "metadata": {},
   "outputs": [],
   "source": [
    "encoder = CNNEncoder(1536, encoder_dim)"
   ]
  },
  {
   "cell_type": "code",
   "execution_count": 12,
   "id": "fifteen-investigator",
   "metadata": {},
   "outputs": [],
   "source": [
    "decoder = RNNDecoder(encoder_dim=encoder_dim, \n",
    "                     decoder_dim=decoder_dim, \n",
    "                     attention_dim=attention_dim, \n",
    "                     embedding_dim=embed_dim, \n",
    "                     vocab_size=vocab_size\n",
    "                    )"
   ]
  },
  {
   "cell_type": "code",
   "execution_count": 13,
   "id": "brown-puzzle",
   "metadata": {},
   "outputs": [
    {
     "data": {
      "application/vnd.jupyter.widget-view+json": {
       "model_id": "76037c01701a4893992ad5745309b770",
       "version_major": 2,
       "version_minor": 0
      },
      "text/plain": [
       "0it [00:00, ?it/s]"
      ]
     },
     "metadata": {},
     "output_type": "display_data"
    },
    {
     "name": "stdout",
     "output_type": "stream",
     "text": [
      "********** Epoch 1/2 **********\n",
      "Average Batch 0 Loss: 5.762305218240489\n",
      "Average Batch 100 Loss: 2.8189464569091798\n",
      "Average Batch 200 Loss: 3.1434729726690995\n",
      "Average Batch 300 Loss: 3.1518243153889975\n",
      "Average Batch 400 Loss: 2.501363927667791\n",
      "Average Batch 500 Loss: 2.253016789754232\n",
      "Average Batch 600 Loss: 2.0805463790893555\n",
      "Average Batch 700 Loss: 2.069033355712891\n",
      "Average Batch 800 Loss: 2.8799352645874023\n",
      "Average Batch 900 Loss: 2.181780208240856\n",
      "Average Batch 1000 Loss: 2.288524322509766\n",
      "Average Batch 1100 Loss: 2.321051491631402\n",
      "Average Batch 1200 Loss: 2.2378260963841488\n",
      "Average Batch 1300 Loss: 2.602543917569247\n",
      "Average Batch 1400 Loss: 1.8899390880878155\n",
      "Average Batch 1500 Loss: 2.2468927171495228\n",
      "Average Batch 1600 Loss: 2.0327493286132814\n",
      "Average Batch 1700 Loss: 2.1308316124810114\n",
      "Average Batch 1800 Loss: 2.5826867756090666\n",
      "Average Batch 1900 Loss: 1.6867263793945313\n",
      "Average Batch 2000 Loss: 1.924961471557617\n",
      "Average Batch 2100 Loss: 1.8724252382914226\n",
      "Average Batch 2200 Loss: 1.6882742245992024\n",
      "Average Batch 2300 Loss: 1.8445403057595957\n",
      "Average Batch 2400 Loss: 1.7895872328016493\n",
      "Average Batch 2500 Loss: 1.8783062828911676\n",
      "Total Loss: 2.324975\n"
     ]
    }
   ],
   "source": [
    "train(dataloader, encoder, decoder, vocab)"
   ]
  },
  {
   "cell_type": "code",
   "execution_count": 14,
   "id": "handy-taste",
   "metadata": {},
   "outputs": [],
   "source": [
    "real = torch.randn((16, 23))"
   ]
  },
  {
   "cell_type": "code",
   "execution_count": 15,
   "id": "split-color",
   "metadata": {},
   "outputs": [
    {
     "ename": "ValueError",
     "evalue": "only one element tensors can be converted to Python scalars",
     "output_type": "error",
     "traceback": [
      "\u001b[0;31m---------------------------------------------------------------------------\u001b[0m",
      "\u001b[0;31mValueError\u001b[0m                                Traceback (most recent call last)",
      "\u001b[0;32m<ipython-input-15-f9b090fb7f5b>\u001b[0m in \u001b[0;36m<module>\u001b[0;34m\u001b[0m\n\u001b[0;32m----> 1\u001b[0;31m \u001b[0mreal\u001b[0m\u001b[0;34m.\u001b[0m\u001b[0mitem\u001b[0m\u001b[0;34m(\u001b[0m\u001b[0;34m)\u001b[0m\u001b[0;34m\u001b[0m\u001b[0;34m\u001b[0m\u001b[0m\n\u001b[0m",
      "\u001b[0;31mValueError\u001b[0m: only one element tensors can be converted to Python scalars"
     ]
    }
   ],
   "source": [
    "real.item()"
   ]
  },
  {
   "cell_type": "code",
   "execution_count": null,
   "id": "perceived-apparel",
   "metadata": {},
   "outputs": [],
   "source": []
  }
 ],
 "metadata": {
  "kernelspec": {
   "display_name": "Python 3",
   "language": "python",
   "name": "python3"
  },
  "language_info": {
   "codemirror_mode": {
    "name": "ipython",
    "version": 3
   },
   "file_extension": ".py",
   "mimetype": "text/x-python",
   "name": "python",
   "nbconvert_exporter": "python",
   "pygments_lexer": "ipython3",
   "version": "3.8.6"
  }
 },
 "nbformat": 4,
 "nbformat_minor": 5
}
